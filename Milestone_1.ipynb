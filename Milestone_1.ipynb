{
 "cells": [
  {
   "cell_type": "markdown",
   "id": "8ca6cba0",
   "metadata": {},
   "source": [
    "# Getting Started with Jupyter Notebook"
   ]
  },
  {
   "cell_type": "code",
   "execution_count": 4,
   "id": "e1172a4e",
   "metadata": {},
   "outputs": [
    {
     "name": "stdout",
     "output_type": "stream",
     "text": [
      "Hello, World!\n"
     ]
    }
   ],
   "source": [
    "print(\"Hello, World!\")"
   ]
  },
  {
   "cell_type": "markdown",
   "id": "c2aa248b",
   "metadata": {},
   "source": [
    "## Define a function to do the same"
   ]
  },
  {
   "cell_type": "code",
   "execution_count": 7,
   "id": "0ce3dd20",
   "metadata": {},
   "outputs": [
    {
     "name": "stdout",
     "output_type": "stream",
     "text": [
      "Hello, World!\n"
     ]
    }
   ],
   "source": [
    "def printHelloWorld():\n",
    "    print(\"Hello, World!\")\n",
    "    \n",
    "printHelloWorld()"
   ]
  },
  {
   "cell_type": "code",
   "execution_count": null,
   "id": "6d192bbe",
   "metadata": {},
   "outputs": [],
   "source": []
  }
 ],
 "metadata": {
  "kernelspec": {
   "display_name": "Python 3 (ipykernel)",
   "language": "python",
   "name": "python3"
  },
  "language_info": {
   "codemirror_mode": {
    "name": "ipython",
    "version": 3
   },
   "file_extension": ".py",
   "mimetype": "text/x-python",
   "name": "python",
   "nbconvert_exporter": "python",
   "pygments_lexer": "ipython3",
   "version": "3.9.12"
  }
 },
 "nbformat": 4,
 "nbformat_minor": 5
}
