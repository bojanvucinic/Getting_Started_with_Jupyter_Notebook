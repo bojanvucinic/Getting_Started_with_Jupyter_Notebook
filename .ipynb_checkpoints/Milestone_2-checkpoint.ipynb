{
 "cells": [
  {
   "cell_type": "code",
   "execution_count": null,
   "id": "23d2b285",
   "metadata": {},
   "outputs": [],
   "source": [
    "%load_ext nb_black"
   ]
  },
  {
   "cell_type": "markdown",
   "id": "7bbb2d25",
   "metadata": {},
   "source": [
    "# Milestone 2"
   ]
  },
  {
   "cell_type": "markdown",
   "id": "59c6c457",
   "metadata": {},
   "source": [
    "## Installing Packages"
   ]
  },
  {
   "cell_type": "code",
   "execution_count": null,
   "id": "dfcd8870",
   "metadata": {},
   "outputs": [],
   "source": [
    "pip install nltk"
   ]
  },
  {
   "cell_type": "code",
   "execution_count": null,
   "id": "1cfda857",
   "metadata": {},
   "outputs": [],
   "source": [
    "pip install numpy"
   ]
  },
  {
   "cell_type": "markdown",
   "id": "b8372f89",
   "metadata": {},
   "source": [
    "## Using the shell"
   ]
  },
  {
   "cell_type": "code",
   "execution_count": null,
   "id": "e41a41dc",
   "metadata": {},
   "outputs": [],
   "source": [
    "!ls -Al"
   ]
  },
  {
   "cell_type": "markdown",
   "id": "5de35552",
   "metadata": {},
   "source": [
    "## Using Latex"
   ]
  },
  {
   "cell_type": "markdown",
   "id": "9135f3c8",
   "metadata": {},
   "source": [
    "Pythagorean theorem: $a^2 + b^2 = c^2$\n",
    "\n",
    "Pythagorean theorem: $$a^2 + b^2 = c^2$$"
   ]
  },
  {
   "cell_type": "markdown",
   "id": "ca7df8ce",
   "metadata": {},
   "source": [
    "## Factorial"
   ]
  },
  {
   "cell_type": "code",
   "execution_count": null,
   "id": "be763e8d",
   "metadata": {},
   "outputs": [],
   "source": [
    "def factorialA(n):\n",
    "    fact = 1\n",
    "    for i in range(1, n + 1):\n",
    "        fact = fact * i\n",
    "    return fact\n",
    "\n",
    "\n",
    "def factorialB(n):\n",
    "    if n == 1:\n",
    "        return n\n",
    "    else:\n",
    "        return n * factorialB(n - 1)"
   ]
  },
  {
   "cell_type": "markdown",
   "id": "447d746e",
   "metadata": {},
   "source": [
    "## Timeit"
   ]
  },
  {
   "cell_type": "code",
   "execution_count": null,
   "id": "3df7677a",
   "metadata": {},
   "outputs": [],
   "source": [
    "import timeit\n",
    "\n",
    "factorialA(10)"
   ]
  },
  {
   "cell_type": "code",
   "execution_count": null,
   "id": "f636fff9",
   "metadata": {},
   "outputs": [],
   "source": [
    "rA = timeit.timeit(\"factorialA(100)\", globals=globals(), number=10000)\n",
    "rB = timeit.timeit(\"factorialB(100)\", globals=globals(), number=10000)\n",
    "\n",
    "if rA < rB:\n",
    "    print(\"factorialA is faster!\")\n",
    "else:\n",
    "    print(\"factorialB is faster!\")"
   ]
  },
  {
   "cell_type": "markdown",
   "id": "c96ce3a0",
   "metadata": {},
   "source": [
    "## Importing video"
   ]
  },
  {
   "cell_type": "code",
   "execution_count": null,
   "id": "b5edff03",
   "metadata": {},
   "outputs": [],
   "source": [
    "from IPython.display import IFrame\n",
    "\n",
    "IFrame(src=\"https://www.youtube.com/embed/Y7uNT0alrKk\", width=\"700\", height=\"430\")"
   ]
  },
  {
   "cell_type": "markdown",
   "id": "bd1322ce",
   "metadata": {},
   "source": [
    "## Install nbextensions"
   ]
  },
  {
   "cell_type": "code",
   "execution_count": null,
   "id": "dc2d5b5a",
   "metadata": {},
   "outputs": [],
   "source": [
    "pip install jupyter_contrib_nbextensions"
   ]
  },
  {
   "cell_type": "code",
   "execution_count": null,
   "id": "4f2bfd4b",
   "metadata": {},
   "outputs": [],
   "source": [
    "!jupyter contrib nbextension install --user"
   ]
  },
  {
   "cell_type": "code",
   "execution_count": null,
   "id": "92790279",
   "metadata": {},
   "outputs": [],
   "source": [
    "pip install jupyter_nbextensions_configurator"
   ]
  },
  {
   "cell_type": "code",
   "execution_count": null,
   "id": "3f2ada71",
   "metadata": {},
   "outputs": [],
   "source": [
    "pip install black"
   ]
  },
  {
   "cell_type": "code",
   "execution_count": null,
   "id": "96b06bb2",
   "metadata": {},
   "outputs": [],
   "source": [
    "!conda update -n base -c defaults conda"
   ]
  },
  {
   "cell_type": "code",
   "execution_count": null,
   "id": "4932faba",
   "metadata": {},
   "outputs": [
    {
     "name": "stdout",
     "output_type": "stream",
     "text": [
      "Collecting package metadata (current_repodata.json): done\n",
      "Solving environment: done\n",
      "\n",
      "\n",
      "==> WARNING: A newer version of conda exists. <==\n",
      "  current version: 4.14.0\n",
      "  latest version: 22.9.0\n",
      "\n",
      "Please update conda by running\n",
      "\n",
      "    $ conda update -n base -c defaults conda\n",
      "\n",
      "\n",
      "\n",
      "## Package Plan ##\n",
      "\n",
      "  environment location: /home/bojan/anaconda3\n",
      "\n",
      "  added / updated specs:\n",
      "    - jupyter_contrib_nbextensions\n",
      "\n",
      "\n",
      "The following packages will be downloaded:\n",
      "\n",
      "    package                    |            build\n",
      "    ---------------------------|-----------------\n",
      "    conda-22.9.0               |   py39hf3d152e_0         963 KB  conda-forge\n",
      "    jupyter_contrib_core-0.4.0 |     pyhd8ed1ab_0          18 KB  conda-forge\n",
      "    jupyter_contrib_nbextensions-0.5.1|     pyhd8ed1ab_2        19.5 MB  conda-forge\n",
      "    jupyter_highlight_selected_word-0.2.0|py39hf3d152e_1005          15 KB  conda-forge\n",
      "    jupyter_latex_envs-1.4.6   |  pyhd8ed1ab_1002         735 KB  conda-forge\n",
      "    jupyter_nbextensions_configurator-0.4.1|   py39hf3d152e_2         471 KB  conda-forge\n",
      "    python_abi-3.9             |           2_cp39           4 KB  conda-forge\n",
      "    ------------------------------------------------------------\n",
      "                                           Total:        21.6 MB\n",
      "\n",
      "The following NEW packages will be INSTALLED:\n",
      "\n",
      "  jupyter_contrib_c~ conda-forge/noarch::jupyter_contrib_core-0.4.0-pyhd8ed1ab_0\n",
      "  jupyter_contrib_n~ conda-forge/noarch::jupyter_contrib_nbextensions-0.5.1-pyhd8ed1ab_2\n",
      "  jupyter_highlight~ conda-forge/linux-64::jupyter_highlight_selected_word-0.2.0-py39hf3d152e_1005\n",
      "  jupyter_latex_envs conda-forge/noarch::jupyter_latex_envs-1.4.6-pyhd8ed1ab_1002\n",
      "  jupyter_nbextensi~ conda-forge/linux-64::jupyter_nbextensions_configurator-0.4.1-py39hf3d152e_2\n",
      "  python_abi         conda-forge/linux-64::python_abi-3.9-2_cp39\n",
      "\n",
      "The following packages will be UPDATED:\n",
      "\n",
      "  conda              pkgs/main::conda-4.14.0-py39h06a4308_0 --> conda-forge::conda-22.9.0-py39hf3d152e_0\n",
      "\n",
      "\n",
      "Proceed ([y]/n)? "
     ]
    }
   ],
   "source": [
    "!conda install -c conda-forge jupyter_contrib_nbextensions"
   ]
  },
  {
   "cell_type": "code",
   "execution_count": null,
   "id": "48d64bcb",
   "metadata": {},
   "outputs": [],
   "source": [
    "!jupyter nbextensions_configurator enable --user"
   ]
  },
  {
   "cell_type": "code",
   "execution_count": null,
   "id": "7fb57770",
   "metadata": {},
   "outputs": [],
   "source": [
    "!jupyter nbextension enable jupyter_black_master/jupyter_black"
   ]
  },
  {
   "cell_type": "markdown",
   "id": "847697de",
   "metadata": {},
   "source": [
    "**Note:** there is no black button / problem in ChromeOS?"
   ]
  },
  {
   "cell_type": "code",
   "execution_count": null,
   "id": "de229c5b",
   "metadata": {},
   "outputs": [],
   "source": []
  }
 ],
 "metadata": {
  "kernelspec": {
   "display_name": "Python 3 (ipykernel)",
   "language": "python",
   "name": "python3"
  },
  "language_info": {
   "codemirror_mode": {
    "name": "ipython",
    "version": 3
   },
   "file_extension": ".py",
   "mimetype": "text/x-python",
   "name": "python",
   "nbconvert_exporter": "python",
   "pygments_lexer": "ipython3",
   "version": "3.9.12"
  },
  "toc": {
   "base_numbering": 1,
   "nav_menu": {
    "height": "324px",
    "width": "279px"
   },
   "number_sections": true,
   "sideBar": true,
   "skip_h1_title": false,
   "title_cell": "Table of Contents",
   "title_sidebar": "Contents",
   "toc_cell": false,
   "toc_position": {
    "height": "calc(100% - 180px)",
    "left": "10px",
    "top": "150px",
    "width": "206.797px"
   },
   "toc_section_display": true,
   "toc_window_display": true
  }
 },
 "nbformat": 4,
 "nbformat_minor": 5
}
