{
 "cells": [
  {
   "cell_type": "markdown",
   "id": "59c6c457",
   "metadata": {},
   "source": [
    "# Milestone 2\n",
    "\n",
    "## Installing Packages"
   ]
  },
  {
   "cell_type": "code",
   "execution_count": 1,
   "id": "dfcd8870",
   "metadata": {},
   "outputs": [
    {
     "name": "stdout",
     "output_type": "stream",
     "text": [
      "Requirement already satisfied: nltk in /home/bojan/anaconda3/lib/python3.9/site-packages (3.7)\n",
      "Requirement already satisfied: regex>=2021.8.3 in /home/bojan/anaconda3/lib/python3.9/site-packages (from nltk) (2022.3.15)\n",
      "Requirement already satisfied: tqdm in /home/bojan/anaconda3/lib/python3.9/site-packages (from nltk) (4.64.0)\n",
      "Requirement already satisfied: joblib in /home/bojan/anaconda3/lib/python3.9/site-packages (from nltk) (1.1.0)\n",
      "Requirement already satisfied: click in /home/bojan/anaconda3/lib/python3.9/site-packages (from nltk) (8.0.4)\n",
      "Note: you may need to restart the kernel to use updated packages.\n"
     ]
    }
   ],
   "source": [
    "pip install nltk"
   ]
  },
  {
   "cell_type": "code",
   "execution_count": 3,
   "id": "1cfda857",
   "metadata": {},
   "outputs": [
    {
     "name": "stdout",
     "output_type": "stream",
     "text": [
      "Requirement already satisfied: numpy in /home/bojan/anaconda3/lib/python3.9/site-packages (1.21.5)\n",
      "Note: you may need to restart the kernel to use updated packages.\n"
     ]
    }
   ],
   "source": [
    "pip install numpy"
   ]
  },
  {
   "cell_type": "markdown",
   "id": "b8372f89",
   "metadata": {},
   "source": [
    "## Using the shell"
   ]
  },
  {
   "cell_type": "code",
   "execution_count": 4,
   "id": "e41a41dc",
   "metadata": {},
   "outputs": [
    {
     "name": "stdout",
     "output_type": "stream",
     "text": [
      "total 12\r\n",
      "drwxr-xr-x 1 bojan bojan  166 Sep 26 16:58 .git\r\n",
      "drwxr-xr-x 1 bojan bojan  112 Sep 26 17:02 .ipynb_checkpoints\r\n",
      "-rw-r--r-- 1 bojan bojan 1512 Sep 26 16:55 Milestone_1.ipynb\r\n",
      "-rw-r--r-- 1 bojan bojan 2097 Sep 26 17:22 Milestone_2.ipynb\r\n",
      "-rw-r--r-- 1 bojan bojan   52 Sep 26 16:40 README.md\r\n"
     ]
    }
   ],
   "source": [
    "!ls -Al"
   ]
  },
  {
   "cell_type": "markdown",
   "id": "5de35552",
   "metadata": {},
   "source": [
    "## Using Latex"
   ]
  },
  {
   "cell_type": "markdown",
   "id": "9135f3c8",
   "metadata": {},
   "source": [
    "Pythagorean theorem: $a^2 + b^2 = c^2$\n",
    "\n",
    "Pythagorean theorem: $$a^2 + b^2 = c^2$$"
   ]
  },
  {
   "cell_type": "markdown",
   "id": "ca7df8ce",
   "metadata": {},
   "source": [
    "## Factorial"
   ]
  },
  {
   "cell_type": "code",
   "execution_count": 6,
   "id": "be763e8d",
   "metadata": {},
   "outputs": [],
   "source": [
    "def factorialA(n):\n",
    "    fact = 1\n",
    "    for i in range(1, n + 1):\n",
    "        fact = fact * i\n",
    "    return fact\n",
    "\n",
    "\n",
    "def factorialB(n):\n",
    "    if n == 1:\n",
    "        return n\n",
    "    else:\n",
    "        return n * factorialB(n - 1)"
   ]
  },
  {
   "cell_type": "markdown",
   "id": "447d746e",
   "metadata": {},
   "source": [
    "### Timeit"
   ]
  },
  {
   "cell_type": "code",
   "execution_count": 11,
   "id": "3df7677a",
   "metadata": {},
   "outputs": [
    {
     "data": {
      "text/plain": [
       "3628800"
      ]
     },
     "execution_count": 11,
     "metadata": {},
     "output_type": "execute_result"
    }
   ],
   "source": [
    "import timeit\n",
    "\n",
    "factorialA(10)"
   ]
  },
  {
   "cell_type": "code",
   "execution_count": 16,
   "id": "f636fff9",
   "metadata": {},
   "outputs": [
    {
     "name": "stdout",
     "output_type": "stream",
     "text": [
      "factorialA(100) time is: \n",
      "6.03 µs ± 107 ns per loop (mean ± std. dev. of 7 runs, 100,000 loops each)\n",
      "factorialB(100) time is: \n",
      "13.4 µs ± 460 ns per loop (mean ± std. dev. of 7 runs, 100,000 loops each)\n"
     ]
    }
   ],
   "source": [
    "print(\"factorialA(100) time is: \")\n",
    "%timeit factorialA(100)\n",
    "\n",
    "print(\"factorialB(100) time is: \")\n",
    "%timeit factorialB(100)"
   ]
  },
  {
   "cell_type": "markdown",
   "id": "19ca0f76",
   "metadata": {},
   "source": [
    "The for loop is faster!"
   ]
  },
  {
   "cell_type": "markdown",
   "id": "c96ce3a0",
   "metadata": {},
   "source": [
    "# Importing video"
   ]
  },
  {
   "cell_type": "code",
   "execution_count": 21,
   "id": "b5edff03",
   "metadata": {},
   "outputs": [
    {
     "data": {
      "text/html": [
       "<iframe width=\"560\" height=\"315\" src=\"https://www.youtube.com/watch?v=Y7uNT0alrKk&ab_channel=ManningPublications\" frameborder=\"0\" allowfullscreen></iframe>"
      ],
      "text/plain": [
       "<IPython.core.display.HTML object>"
      ]
     },
     "execution_count": 21,
     "metadata": {},
     "output_type": "execute_result"
    }
   ],
   "source": [
    "from IPython.display import IFrame\n",
    "\n",
    "HTML('<iframe width=\"560\" height=\"315\" src=\"https://www.youtube.com/watch?v=Y7uNT0alrKk&ab_channel=ManningPublications\" frameborder=\"0\" allowfullscreen></iframe>')"
   ]
  },
  {
   "cell_type": "code",
   "execution_count": null,
   "id": "97784619",
   "metadata": {},
   "outputs": [],
   "source": []
  }
 ],
 "metadata": {
  "kernelspec": {
   "display_name": "Python 3 (ipykernel)",
   "language": "python",
   "name": "python3"
  },
  "language_info": {
   "codemirror_mode": {
    "name": "ipython",
    "version": 3
   },
   "file_extension": ".py",
   "mimetype": "text/x-python",
   "name": "python",
   "nbconvert_exporter": "python",
   "pygments_lexer": "ipython3",
   "version": "3.9.12"
  }
 },
 "nbformat": 4,
 "nbformat_minor": 5
}
